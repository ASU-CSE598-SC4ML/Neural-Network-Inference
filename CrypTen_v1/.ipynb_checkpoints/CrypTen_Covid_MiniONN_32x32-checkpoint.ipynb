{
 "cells": [
  {
   "cell_type": "code",
   "execution_count": 1,
   "id": "d50f2dd7",
   "metadata": {},
   "outputs": [
    {
     "name": "stderr",
     "output_type": "stream",
     "text": [
      "DEBUG:root:test\n"
     ]
    }
   ],
   "source": [
    "import logging\n",
    "logger = logging.getLogger()\n",
    "logger.setLevel(logging.DEBUG)\n",
    "logging.debug(\"test\")"
   ]
  },
  {
   "cell_type": "code",
   "execution_count": 2,
   "id": "27450142",
   "metadata": {},
   "outputs": [
    {
     "name": "stderr",
     "output_type": "stream",
     "text": [
      "WARNING:root:module 'torchvision.models.mobilenet' has no attribute 'ConvBNReLU'\n",
      "INFO:root:==================\n",
      "INFO:root:DistributedCommunicator with rank 0\n",
      "INFO:root:==================\n",
      "INFO:root:Added key: store_based_barrier_key:1 to store for rank: 0\n",
      "INFO:root:Added key: store_based_barrier_key:2 to store for rank: 0\n",
      "INFO:root:Added key: store_based_barrier_key:3 to store for rank: 0\n",
      "INFO:root:World size = 1\n"
     ]
    }
   ],
   "source": [
    "import crypten\n",
    "import torch\n",
    "\n",
    "crypten.init()\n",
    "torch.set_num_threads(1)\n",
    "\n",
    "#ignore warnings\n",
    "import warnings; \n",
    "warnings.filterwarnings(\"ignore\")"
   ]
  },
  {
   "cell_type": "code",
   "execution_count": 3,
   "id": "3b19ae94",
   "metadata": {},
   "outputs": [],
   "source": [
    "import torch\n",
    "from torch.autograd import Variable\n",
    "import torch.nn as nn\n",
    "import torch.autograd as autograd\n",
    "from torch.utils.data import Dataset, DataLoader\n",
    "import torch.utils.data as data\n",
    "import torch.nn.functional as F\n",
    "import torch.optim as optim\n",
    "import itertools\n",
    "\n",
    "from torchvision import transforms, datasets, models\n",
    "\n",
    "from PIL import Image\n",
    "import numpy as np\n",
    "import pandas as pd"
   ]
  },
  {
   "cell_type": "code",
   "execution_count": 4,
   "id": "4607c0f0",
   "metadata": {},
   "outputs": [],
   "source": [
    "class MiniONN(nn.Module):\n",
    "    def __init__(self):\n",
    "        super().__init__()\n",
    "        self.conv1 = nn.Conv2d(3, 64, 3, 1, 1)\n",
    "        self.conv2 = nn.Conv2d(64, 64, 3, 1, 1)\n",
    "        self.conv3 = nn.Conv2d(64, 64, 3, 1, 1)\n",
    "        self.conv4 = nn.Conv2d(64, 64, 3, 1, 1)\n",
    "        self.conv5 = nn.Conv2d(64, 64, 3, 1, 1)\n",
    "        \n",
    "        self.conv6 = nn.Conv2d(64, 64, 1, 1, 0)\n",
    "        self.conv7 = nn.Conv2d(64, 16, 1, 1, 0)\n",
    "        \n",
    "        self.fc = nn.Linear(1024, 1)\n",
    "        \n",
    "        self.avg1 = nn.AvgPool2d(2, 2)\n",
    "        self.avg2 = nn.AvgPool2d(2, 2)\n",
    "        \n",
    "        \n",
    "    def forward(self, x):\n",
    "        h = F.relu(self.conv1(x))\n",
    "        h = F.relu(self.conv2(h))\n",
    "        \n",
    "        h = self.avg1(h)\n",
    "        \n",
    "        h = F.relu(self.conv3(h))\n",
    "        h = F.relu(self.conv4(h))\n",
    "        \n",
    "        h = self.avg2(h)\n",
    "        \n",
    "        h = F.relu(self.conv5(h))\n",
    "        h = F.relu(self.conv6(h))\n",
    "        h = F.relu(self.conv7(h))\n",
    "        \n",
    "        h = h.view(-1, 1024)\n",
    "        h = self.fc(h)\n",
    "        \n",
    "        return h\n",
    "        \n",
    "model_ft = MiniONN()"
   ]
  },
  {
   "cell_type": "code",
   "execution_count": 5,
   "id": "4821ac04",
   "metadata": {},
   "outputs": [
    {
     "data": {
      "text/plain": [
       "155729"
      ]
     },
     "execution_count": 5,
     "metadata": {},
     "output_type": "execute_result"
    }
   ],
   "source": [
    "def get_n_params(model):\n",
    "    pp=0\n",
    "    for p in list(model.parameters()):\n",
    "        nn=1\n",
    "        for s in list(p.size()):\n",
    "            nn=nn*s\n",
    "        pp+=nn\n",
    "    return pp\n",
    "\n",
    "get_n_params(model_ft)"
   ]
  },
  {
   "cell_type": "code",
   "execution_count": 6,
   "id": "99d0a490",
   "metadata": {},
   "outputs": [],
   "source": [
    "ALICE = 0\n",
    "BOB = 1"
   ]
  },
  {
   "cell_type": "code",
   "execution_count": 7,
   "id": "29280e0a",
   "metadata": {},
   "outputs": [
    {
     "name": "stdout",
     "output_type": "stream",
     "text": [
      "CPU times: user 89 µs, sys: 18 µs, total: 107 µs\n",
      "Wall time: 110 µs\n"
     ]
    }
   ],
   "source": [
    "%%time\n",
    "import time\n",
    "\n",
    "import crypten.mpc as mpc\n",
    "import crypten.communicator as comm\n",
    "\n",
    "transform = transforms.Compose([\n",
    "            lambda x: Image.open(x).convert('RGB'),\n",
    "            transforms.Resize((32, 32)),\n",
    "            transforms.ToTensor(),\n",
    "            transforms.Normalize((0.485, 0.456, 0.406), (0.229, 0.224, 0.225))\n",
    "        ])"
   ]
  },
  {
   "cell_type": "code",
   "execution_count": 8,
   "id": "d4415306",
   "metadata": {},
   "outputs": [
    {
     "name": "stderr",
     "output_type": "stream",
     "text": [
      "INFO:root:==================\n",
      "INFO:root:DistributedCommunicator with rank 0\n",
      "INFO:root:==================\n",
      "INFO:root:==================\n",
      "INFO:root:DistributedCommunicator with rank 1\n",
      "INFO:root:==================\n",
      "INFO:root:Added key: store_based_barrier_key:1 to store for rank: 1\n",
      "INFO:root:Added key: store_based_barrier_key:1 to store for rank: 0\n",
      "INFO:root:Added key: store_based_barrier_key:2 to store for rank: 1\n",
      "INFO:root:Added key: store_based_barrier_key:2 to store for rank: 0\n",
      "INFO:root:Added key: store_based_barrier_key:3 to store for rank: 0\n",
      "INFO:root:Added key: store_based_barrier_key:3 to store for rank: 1\n",
      "INFO:root:Added key: store_based_barrier_key:4 to store for rank: 0\n",
      "INFO:root:World size = 2\n",
      "INFO:root:Added key: store_based_barrier_key:4 to store for rank: 1\n",
      "INFO:root:World size = 2\n",
      "DEBUG:PIL.PngImagePlugin:STREAM b'IHDR' 16 13\n",
      "DEBUG:PIL.PngImagePlugin:STREAM b'tIME' 41 7\n",
      "DEBUG:PIL.PngImagePlugin:b'tIME' 41 7 (unknown)\n",
      "DEBUG:PIL.PngImagePlugin:STREAM b'IDAT' 60 8192\n",
      "DEBUG:PIL.PngImagePlugin:STREAM b'IHDR' 16 13\n",
      "DEBUG:PIL.PngImagePlugin:STREAM b'tIME' 41 7\n",
      "DEBUG:PIL.PngImagePlugin:b'tIME' 41 7 (unknown)\n",
      "DEBUG:PIL.PngImagePlugin:STREAM b'IDAT' 60 8192\n"
     ]
    },
    {
     "name": "stdout",
     "output_type": "stream",
     "text": [
      "Output class:  tensor([[0.8914]]) Time:  1.9540951251983643\n"
     ]
    },
    {
     "name": "stderr",
     "output_type": "stream",
     "text": [
      "INFO:root:====Communication Stats====\n",
      "INFO:root:Rounds: 72\n"
     ]
    },
    {
     "name": "stdout",
     "output_type": "stream",
     "text": [
      "Output class: "
     ]
    },
    {
     "name": "stderr",
     "output_type": "stream",
     "text": [
      "INFO:root:Bytes : 42309128\n"
     ]
    },
    {
     "name": "stdout",
     "output_type": "stream",
     "text": [
      " "
     ]
    },
    {
     "name": "stderr",
     "output_type": "stream",
     "text": [
      "INFO:root:Comm time: 0.05111907500668167\n"
     ]
    },
    {
     "name": "stdout",
     "output_type": "stream",
     "text": [
      "tensor([[0.8914]]) Time:  1.958292007446289\n"
     ]
    },
    {
     "name": "stderr",
     "output_type": "stream",
     "text": [
      "INFO:root:====Communication Stats====\n",
      "INFO:root:Rounds: 72\n",
      "INFO:root:Bytes : 42309128\n",
      "INFO:root:Comm time: 0.09995209000862815\n",
      "INFO:root:==================\n",
      "INFO:root:DistributedCommunicator with rank 0\n",
      "INFO:root:==================\n",
      "INFO:root:Added key: store_based_barrier_key:1 to store for rank: 0\n",
      "INFO:root:Added key: store_based_barrier_key:2 to store for rank: 0\n",
      "INFO:root:Added key: store_based_barrier_key:3 to store for rank: 0\n",
      "INFO:root:World size = 1\n"
     ]
    },
    {
     "data": {
      "text/plain": [
       "[None, None]"
      ]
     },
     "execution_count": 8,
     "metadata": {},
     "output_type": "execute_result"
    }
   ],
   "source": [
    "# labels = torch.load('/tmp/bob_test_labels.pth').long()\n",
    "# count = 100 # For illustration purposes, we'll use only 100 samples for classification\n",
    "\n",
    "@mpc.run_multiprocess(world_size=2)\n",
    "def encrypt_model_and_data():\n",
    "    crypten.comm.get().set_verbosity(True)\n",
    "    # Load pre-trained model to Alice\n",
    "    model = crypten.load('../training/models/minionn/checkpoint_cpu_cpu.pt', dummy_model=model_ft, src=ALICE)\n",
    "    \n",
    "    # Encrypt model from Alice \n",
    "    dummy_input = torch.empty((1, 3, 32, 32))\n",
    "    private_model = crypten.nn.from_pytorch(model.double(), dummy_input.double())\n",
    "\n",
    "    private_model.encrypt(src=ALICE)\n",
    "    \n",
    "    # Load data to Bob\n",
    "    data_enc = crypten.cryptensor(transform('../training/dataset/COVID/COVID-1.png').unsqueeze(0), src=BOB)\n",
    "\n",
    "    # Classify the encrypted data\n",
    "    private_model.eval()\n",
    "    start = time.time()\n",
    "\n",
    "    output_enc = private_model(data_enc)\n",
    "    end = time.time()\n",
    "\n",
    "\n",
    "\n",
    "    # Compute the accuracy\n",
    "    output = output_enc.get_plain_text()\n",
    "    print('Output class: ', torch.sigmoid(output), 'Time: ', end-start)\n",
    "    crypten.print_communication_stats()\n",
    "    \n",
    "encrypt_model_and_data()"
   ]
  },
  {
   "cell_type": "code",
   "execution_count": null,
   "id": "05e1819d",
   "metadata": {},
   "outputs": [],
   "source": []
  }
 ],
 "metadata": {
  "kernelspec": {
   "display_name": "Python 3",
   "language": "python",
   "name": "python3"
  },
  "language_info": {
   "codemirror_mode": {
    "name": "ipython",
    "version": 3
   },
   "file_extension": ".py",
   "mimetype": "text/x-python",
   "name": "python",
   "nbconvert_exporter": "python",
   "pygments_lexer": "ipython3",
   "version": "3.8.5"
  }
 },
 "nbformat": 4,
 "nbformat_minor": 5
}
