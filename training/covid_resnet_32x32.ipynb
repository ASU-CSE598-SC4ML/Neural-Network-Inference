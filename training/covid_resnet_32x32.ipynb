{
 "cells": [
  {
   "cell_type": "code",
   "execution_count": 1,
   "id": "4a6ea6a9",
   "metadata": {},
   "outputs": [],
   "source": [
    "import time\n",
    "start_time = time.time()"
   ]
  },
  {
   "cell_type": "code",
   "execution_count": 2,
   "id": "parliamentary-election",
   "metadata": {
    "ExecuteTime": {
     "end_time": "2021-04-13T20:41:32.890680Z",
     "start_time": "2021-04-13T20:41:32.035056Z"
    }
   },
   "outputs": [],
   "source": [
    "import numpy as np\n",
    "import pandas as pd\n",
    "import sys\n",
    "from os import listdir, makedirs, getcwd, remove\n",
    "from os.path import isfile, join, abspath, exists, isdir, expanduser\n",
    "from PIL import Image\n",
    "from tqdm import tqdm\n",
    "\n",
    "import torch\n",
    "from torch.autograd import Variable\n",
    "import torch.nn as nn\n",
    "import torch.autograd as autograd\n",
    "from torch.utils.data import Dataset, DataLoader\n",
    "import torch.utils.data as data\n",
    "import torch.nn.functional as F\n",
    "import torch.optim as optim\n",
    "import itertools\n",
    "\n",
    "import torchvision\n",
    "from torchvision import transforms, datasets, models\n",
    "from torch import Tensor\n",
    "from torch.utils.data.sampler import SubsetRandomSampler\n",
    "\n",
    "\n",
    "from torch.utils.tensorboard import SummaryWriter\n",
    "\n",
    "from sklearn.model_selection import ShuffleSplit\n",
    "\n",
    "from resnet import resnet32"
   ]
  },
  {
   "cell_type": "code",
   "execution_count": 3,
   "id": "varied-montana",
   "metadata": {
    "ExecuteTime": {
     "end_time": "2021-04-13T20:41:32.977685Z",
     "start_time": "2021-04-13T20:41:32.972006Z"
    },
    "code_folding": []
   },
   "outputs": [],
   "source": [
    "class medical_dataset(Dataset):\n",
    "    def __init__(self, covid_path, normal_path, transform=None):\n",
    "        self.covid_path = covid_path\n",
    "        self.normal_path = normal_path\n",
    "\n",
    "        self.transform = transforms.Compose([\n",
    "            lambda x: Image.open(x).convert('RGB'),\n",
    "            transforms.Resize((32, 32)),\n",
    "            transforms.ToTensor(),\n",
    "            transforms.Normalize((0.485, 0.456, 0.406), (0.229, 0.224, 0.225))\n",
    "        ])\n",
    "\n",
    "        self.covid_img = listdir(self.covid_path)\n",
    "        self.normal_img = listdir(self.normal_path)\n",
    "        \n",
    "        print(\"Class imbalance is: {}\".format(len(self.normal_img)/len(self.covid_img)))\n",
    "        \n",
    "        self.indices=np.arange(len(self.covid_img)+len(self.normal_img))\n",
    "\n",
    "    def __len__(self):\n",
    "        return len(self.normal_img) + len(self.covid_img)\n",
    "\n",
    "    def __getitem__(self, idx):\n",
    "\n",
    "        if (idx + 1 <= len(self.normal_img)):\n",
    "            img = self.transform(join(self.normal_path, self.normal_img[idx]))\n",
    "            label = 0\n",
    "        else:\n",
    "            idx = idx - len(self.normal_img)\n",
    "            img = self.transform(join(self.covid_path, self.covid_img[idx]))\n",
    "            label = 1\n",
    "\n",
    "        return img, torch.tensor([label]).float()"
   ]
  },
  {
   "cell_type": "code",
   "execution_count": 4,
   "id": "56e92dee",
   "metadata": {
    "ExecuteTime": {
     "end_time": "2021-04-13T20:41:33.078484Z",
     "start_time": "2021-04-13T20:41:33.067570Z"
    }
   },
   "outputs": [
    {
     "name": "stdout",
     "output_type": "stream",
     "text": [
      "Class imbalance is: 2.8185840707964602\n"
     ]
    }
   ],
   "source": [
    "dataset = medical_dataset(\n",
    "    covid_path='./dataset/archive/COVID-19_Radiography_Dataset/COVID/',\n",
    "    normal_path='./dataset/archive/COVID-19_Radiography_Dataset/Normal/',\n",
    ")\n",
    "\n",
    "X_unshuffled = dataset.indices\n",
    "rs = ShuffleSplit(n_splits=1, test_size=.2, random_state=32)\n",
    "rs.get_n_splits(X_unshuffled)\n",
    "\n",
    "train_ind = []\n",
    "val_ind = []\n",
    "for train_index, test_index in rs.split(X_unshuffled):\n",
    "    train_ind.append(train_index)\n",
    "    val_ind.append(test_index)"
   ]
  },
  {
   "cell_type": "code",
   "execution_count": 5,
   "id": "d9ea4797",
   "metadata": {
    "ExecuteTime": {
     "end_time": "2021-04-13T20:41:37.734151Z",
     "start_time": "2021-04-13T20:41:37.725129Z"
    }
   },
   "outputs": [],
   "source": [
    "train_sampler = SubsetRandomSampler(train_ind[0].tolist())\n",
    "test_sampler = SubsetRandomSampler(val_ind[0].tolist())\n",
    "\n",
    "train_loader = DataLoader(dataset, batch_size=32, sampler=train_sampler)\n",
    "test_loader = DataLoader(dataset, batch_size=32, sampler=test_sampler)"
   ]
  },
  {
   "cell_type": "code",
   "execution_count": 12,
   "id": "14495059",
   "metadata": {
    "ExecuteTime": {
     "end_time": "2021-04-13T20:43:01.343076Z",
     "start_time": "2021-04-13T20:42:58.542745Z"
    }
   },
   "outputs": [
    {
     "name": "stdout",
     "output_type": "stream",
     "text": [
      "CifarResNet : Depth : 32 , Layers for each block : 5\n"
     ]
    }
   ],
   "source": [
    "resnet_model = resnet32(1)"
   ]
  },
  {
   "cell_type": "code",
   "execution_count": 13,
   "id": "4e974ca0",
   "metadata": {
    "ExecuteTime": {
     "end_time": "2021-04-13T20:43:06.282420Z",
     "start_time": "2021-04-13T20:43:06.280186Z"
    }
   },
   "outputs": [],
   "source": [
    "# resnet_model.cuda()"
   ]
  },
  {
   "cell_type": "code",
   "execution_count": 14,
   "id": "c9e268f0",
   "metadata": {
    "ExecuteTime": {
     "end_time": "2021-04-13T19:25:12.473712Z",
     "start_time": "2021-04-13T19:25:12.368398Z"
    }
   },
   "outputs": [
    {
     "data": {
      "text/plain": [
       "<All keys matched successfully>"
      ]
     },
     "execution_count": 14,
     "metadata": {},
     "output_type": "execute_result"
    }
   ],
   "source": [
    "resnet_model.load_state_dict(torch.load(\"./models/covid_resnet32/checkpoint.pt\"))"
   ]
  },
  {
   "cell_type": "code",
   "execution_count": 15,
   "id": "4c9398f4",
   "metadata": {
    "ExecuteTime": {
     "end_time": "2021-04-13T19:39:28.211130Z",
     "start_time": "2021-04-13T19:39:28.086521Z"
    }
   },
   "outputs": [],
   "source": [
    "torch.save(resnet_model.cpu(), \"./models/covid_resnet32/checkpoint_cpu_cpu.pt\")"
   ]
  },
  {
   "cell_type": "code",
   "execution_count": 7,
   "id": "a9f11011",
   "metadata": {
    "ExecuteTime": {
     "end_time": "2021-04-13T20:43:15.128268Z",
     "start_time": "2021-04-13T20:43:15.109819Z"
    },
    "code_folding": [
     0
    ]
   },
   "outputs": [],
   "source": [
    "class EarlyStopping:\n",
    "    \"\"\"Early stops the training if validation loss doesn't improve after a given patience.\"\"\"\n",
    "    def __init__(self,\n",
    "                 patience=7,\n",
    "                 verbose=False,\n",
    "                 delta=0,\n",
    "                 path='./models/covid_resnet32/checkpoint.pt',\n",
    "                 trace_func=print):\n",
    "        \"\"\"\n",
    "        Args:\n",
    "            patience (int): How long to wait after last time validation loss improved.\n",
    "                            Default: 7\n",
    "            verbose (bool): If True, prints a message for each validation loss improvement. \n",
    "                            Default: False\n",
    "            delta (float): Minimum change in the monitored quantity to qualify as an improvement.\n",
    "                            Default: 0\n",
    "            path (str): Path for the checkpoint to be saved to.\n",
    "                            Default: 'checkpoint.pt'\n",
    "            trace_func (function): trace print function.\n",
    "                            Default: print            \n",
    "        \"\"\"\n",
    "        self.patience = patience\n",
    "        self.verbose = verbose\n",
    "        self.counter = 0\n",
    "        self.best_score = None\n",
    "        self.early_stop = False\n",
    "        self.val_loss_min = np.Inf\n",
    "        self.delta = delta\n",
    "        self.path = path\n",
    "        self.trace_func = trace_func\n",
    "\n",
    "    def __call__(self, val_loss, model):\n",
    "\n",
    "        score = -val_loss\n",
    "\n",
    "        if self.best_score is None:\n",
    "            self.best_score = score\n",
    "            self.save_checkpoint(val_loss, model)\n",
    "        elif score < self.best_score + self.delta:\n",
    "            self.counter += 1\n",
    "            self.trace_func(\n",
    "                f'EarlyStopping counter: {self.counter} out of {self.patience}'\n",
    "            )\n",
    "            if self.counter >= self.patience:\n",
    "                self.early_stop = True\n",
    "        else:\n",
    "            self.best_score = score\n",
    "            self.save_checkpoint(val_loss, model)\n",
    "            self.counter = 0\n",
    "\n",
    "    def save_checkpoint(self, val_loss, model):\n",
    "        '''Saves model when validation loss decrease.'''\n",
    "        if self.verbose:\n",
    "            self.trace_func(\n",
    "                f'Validation loss decreased ({self.val_loss_min:.6f} --> {val_loss:.6f}).  Saving model ...'\n",
    "            )\n",
    "        torch.save(model.state_dict(), self.path)\n",
    "        self.val_loss_min = val_loss"
   ]
  },
  {
   "cell_type": "code",
   "execution_count": 8,
   "id": "030c1067",
   "metadata": {
    "ExecuteTime": {
     "end_time": "2021-04-13T00:50:43.428807Z",
     "start_time": "2021-04-13T00:50:43.412396Z"
    },
    "code_folding": []
   },
   "outputs": [],
   "source": [
    "from tqdm.notebook import tqdm \n",
    "\n",
    "class Trainer:\n",
    "    def __init__(self,\n",
    "                 trainloader,\n",
    "                 vallaoder,\n",
    "                 model_ft,\n",
    "                 writer=None,\n",
    "                 testloader=None,\n",
    "                 checkpoint_path=None,\n",
    "                 patience=5,\n",
    "                 feature_extract=True,\n",
    "                 print_itr=50):\n",
    "        self.trainloader = trainloader\n",
    "        self.valloader = vallaoder\n",
    "        self.testloader = testloader\n",
    "\n",
    "#         self.device = torch.device(\n",
    "#             \"cuda:0\" if torch.cuda.is_available() else \"cpu\")\n",
    "\n",
    "        self.device = torch.device(\"cpu\")\n",
    "\n",
    "        print(\"==\" * 10)\n",
    "        print(\"Training will be done on \", self.device)\n",
    "        print(\"==\" * 10)\n",
    "\n",
    "        self.model = model_ft\n",
    "        self.model = self.model.to(self.device)\n",
    "\n",
    "        # Observe that all parameters are being optimized\n",
    "        self.optimizer = optim.Adam(self.model.parameters(), lr=0.0001)\n",
    "        self.criterion = nn.BCELoss()\n",
    "\n",
    "        self.early_stopping = EarlyStopping(patience=patience, verbose=True)\n",
    "        self.writer = writer\n",
    "        self.print_itr = print_itr\n",
    "\n",
    "    def train(self, ep):\n",
    "        self.model.train()\n",
    "\n",
    "        running_loss = 0.0\n",
    "        train_tqdm = tqdm(self.trainloader)\n",
    "\n",
    "        for en, (x, y) in enumerate(train_tqdm):\n",
    "            x = x.to(self.device)\n",
    "            y = y.to(self.device)\n",
    "\n",
    "            self.optimizer.zero_grad()\n",
    "\n",
    "            outputs = F.sigmoid(self.model(x))\n",
    "            loss = self.criterion(outputs, y)\n",
    "            loss.backward()\n",
    "            self.optimizer.step()\n",
    "\n",
    "            running_loss += loss.item()\n",
    "            train_tqdm.set_description(\"Loss: {}\".format(running_loss))\n",
    "            running_loss = 0\n",
    "\n",
    "            # print statistics\n",
    "\n",
    "\n",
    "#             running_loss += loss.item()\n",
    "#             if (en + 1) % self.print_itr == 0:\n",
    "#                 print('[%d, %5d] loss: %.3f' %\n",
    "#                       (ep, en + 1, running_loss / self.print_itr))\n",
    "#                 running_loss = 0.0\n",
    "\n",
    "    def validate(self, ep):\n",
    "        self.model.eval()\n",
    "\n",
    "        total = 0\n",
    "        correct = 0\n",
    "        running_loss = 0.0\n",
    "        for en, (x, y) in enumerate(tqdm(self.valloader)):\n",
    "\n",
    "            x = x.to(self.device)\n",
    "            y = y.to(self.device)\n",
    "\n",
    "            outputs = F.sigmoid(self.model(x))\n",
    "            loss = self.criterion(outputs, y)\n",
    "\n",
    "            predicted = torch.tensor([1 if outputs[i]>=0.5 else 0 for i in range(outputs.shape[0])])\n",
    "\n",
    "            total += y.size(0)\n",
    "            correct += (predicted.squeeze() == y.cpu().squeeze()).sum().item()\n",
    "\n",
    "            # print statistics\n",
    "            running_loss += loss.item()\n",
    "        return running_loss / len(self.valloader), correct * 100 / total\n",
    "\n",
    "    def evaluate(self, ep, dataloader):\n",
    "        self.model.eval()\n",
    "\n",
    "        total = 0\n",
    "        correct = 0\n",
    "        for en, (x, y) in enumerate(tqdm(dataloader)):\n",
    "\n",
    "            x = x.to(self.device)\n",
    "            y = y.to(self.device)\n",
    "\n",
    "            outputs = F.sigmoid(self.model(x))\n",
    "            predicted = torch.tensor([1 if outputs[i]>=0.5 else 0 for i in range(outputs.shape[0])])\n",
    "#             print(predicted.shape)\n",
    "            total += y.size(0)\n",
    "            correct += (predicted.squeeze() == y.cpu().squeeze()).sum().item()\n",
    "\n",
    "        return correct * 100 / total\n",
    "\n",
    "    def perform_training(self, total_epoch):\n",
    "        val_loss, acc = self.validate(0)\n",
    "\n",
    "        print(\"[Initial Validation results] Loss: {} \\t Acc:{}\".format(\n",
    "            val_loss, acc))\n",
    "\n",
    "        for i in range(total_epoch):\n",
    "            self.train(i + 1)\n",
    "            val_loss, acc = self.validate(i + 1)\n",
    "            #             acc = self.evaluate(i+1, self.valloader)\n",
    "            print(\"Epoch:{} \\t Accuracy:{}\".format(i+1, acc))\n",
    "            if self.writer:\n",
    "                self.writer.add_scalar('Validation Loss', val_loss, (i + 1))\n",
    "                self.writer.add_scalar('Validation Acc', acc, (i + 1))\n",
    "\n",
    "            self.early_stopping(val_loss, self.model)\n",
    "\n",
    "            if self.early_stopping.early_stop:\n",
    "                print(\"Early stopping\")\n",
    "                break\n",
    "\n",
    "        print(\"=\" * 20)\n",
    "        print(\"Training finished !!\")\n",
    "        print(\"=\" * 20)"
   ]
  },
  {
   "cell_type": "code",
   "execution_count": 9,
   "id": "90e8035d",
   "metadata": {
    "ExecuteTime": {
     "end_time": "2021-04-13T00:50:45.384597Z",
     "start_time": "2021-04-13T00:50:43.430311Z"
    }
   },
   "outputs": [
    {
     "name": "stdout",
     "output_type": "stream",
     "text": [
      "====================\n",
      "Training will be done on  cpu\n",
      "====================\n"
     ]
    }
   ],
   "source": [
    "writer = SummaryWriter('runs/covid_resnet32')\n",
    "trainer = Trainer(train_loader, test_loader, resnet_model, writer=writer)"
   ]
  },
  {
   "cell_type": "code",
   "execution_count": 10,
   "id": "bd03b03d",
   "metadata": {
    "ExecuteTime": {
     "end_time": "2021-04-13T02:00:55.680239Z",
     "start_time": "2021-04-13T00:50:45.385992Z"
    }
   },
   "outputs": [
    {
     "data": {
      "application/vnd.jupyter.widget-view+json": {
       "model_id": "8d650700be7b4eefbd22ca00f663d269",
       "version_major": 2,
       "version_minor": 0
      },
      "text/plain": [
       "  0%|          | 0/87 [00:00<?, ?it/s]"
      ]
     },
     "metadata": {},
     "output_type": "display_data"
    },
    {
     "name": "stderr",
     "output_type": "stream",
     "text": [
      "/home/maitreya/Courses/SCML/COVID/env/lib/python3.8/site-packages/torch/nn/functional.py:1709: UserWarning: nn.functional.sigmoid is deprecated. Use torch.sigmoid instead.\n",
      "  warnings.warn(\"nn.functional.sigmoid is deprecated. Use torch.sigmoid instead.\")\n"
     ]
    },
    {
     "name": "stdout",
     "output_type": "stream",
     "text": [
      "[Initial Validation results] Loss: 21.891431611159753 \t Acc:74.04055032585083\n"
     ]
    },
    {
     "data": {
      "application/vnd.jupyter.widget-view+json": {
       "model_id": "90b65b77b86a44e689ebc546cf840178",
       "version_major": 2,
       "version_minor": 0
      },
      "text/plain": [
       "  0%|          | 0/346 [00:00<?, ?it/s]"
      ]
     },
     "metadata": {},
     "output_type": "display_data"
    },
    {
     "data": {
      "application/vnd.jupyter.widget-view+json": {
       "model_id": "6ce3ec31c6fa42e1878e13f83e102179",
       "version_major": 2,
       "version_minor": 0
      },
      "text/plain": [
       "  0%|          | 0/87 [00:00<?, ?it/s]"
      ]
     },
     "metadata": {},
     "output_type": "display_data"
    },
    {
     "name": "stdout",
     "output_type": "stream",
     "text": [
      "Epoch:1 \t Accuracy:83.12816799420709\n",
      "Validation loss decreased (inf --> 0.388356).  Saving model ...\n"
     ]
    },
    {
     "data": {
      "application/vnd.jupyter.widget-view+json": {
       "model_id": "fd866a3e5c214abbb95999035c63fa3e",
       "version_major": 2,
       "version_minor": 0
      },
      "text/plain": [
       "  0%|          | 0/346 [00:00<?, ?it/s]"
      ]
     },
     "metadata": {},
     "output_type": "display_data"
    },
    {
     "data": {
      "application/vnd.jupyter.widget-view+json": {
       "model_id": "279a2c4dbf33418f9d975b5961d252dd",
       "version_major": 2,
       "version_minor": 0
      },
      "text/plain": [
       "  0%|          | 0/87 [00:00<?, ?it/s]"
      ]
     },
     "metadata": {},
     "output_type": "display_data"
    },
    {
     "name": "stdout",
     "output_type": "stream",
     "text": [
      "Epoch:2 \t Accuracy:92.61404779145546\n",
      "Validation loss decreased (0.388356 --> 0.197348).  Saving model ...\n"
     ]
    },
    {
     "data": {
      "application/vnd.jupyter.widget-view+json": {
       "model_id": "4bcd254e826f4434849d679dc2be2ac3",
       "version_major": 2,
       "version_minor": 0
      },
      "text/plain": [
       "  0%|          | 0/346 [00:00<?, ?it/s]"
      ]
     },
     "metadata": {},
     "output_type": "display_data"
    },
    {
     "data": {
      "application/vnd.jupyter.widget-view+json": {
       "model_id": "a0598a7108414a58b32f80aa6f217757",
       "version_major": 2,
       "version_minor": 0
      },
      "text/plain": [
       "  0%|          | 0/87 [00:00<?, ?it/s]"
      ]
     },
     "metadata": {},
     "output_type": "display_data"
    },
    {
     "name": "stdout",
     "output_type": "stream",
     "text": [
      "Epoch:3 \t Accuracy:90.04344677769733\n",
      "EarlyStopping counter: 1 out of 5\n"
     ]
    },
    {
     "data": {
      "application/vnd.jupyter.widget-view+json": {
       "model_id": "ee3335420969488b89919061ec140c84",
       "version_major": 2,
       "version_minor": 0
      },
      "text/plain": [
       "  0%|          | 0/346 [00:00<?, ?it/s]"
      ]
     },
     "metadata": {},
     "output_type": "display_data"
    },
    {
     "data": {
      "application/vnd.jupyter.widget-view+json": {
       "model_id": "169d8b400b7445b4a5ad5b9cdba81482",
       "version_major": 2,
       "version_minor": 0
      },
      "text/plain": [
       "  0%|          | 0/87 [00:00<?, ?it/s]"
      ]
     },
     "metadata": {},
     "output_type": "display_data"
    },
    {
     "name": "stdout",
     "output_type": "stream",
     "text": [
      "Epoch:4 \t Accuracy:88.05213613323679\n",
      "EarlyStopping counter: 2 out of 5\n"
     ]
    },
    {
     "data": {
      "application/vnd.jupyter.widget-view+json": {
       "model_id": "1bea0a1f880441bbaa5d36f1d14610bc",
       "version_major": 2,
       "version_minor": 0
      },
      "text/plain": [
       "  0%|          | 0/346 [00:00<?, ?it/s]"
      ]
     },
     "metadata": {},
     "output_type": "display_data"
    },
    {
     "data": {
      "application/vnd.jupyter.widget-view+json": {
       "model_id": "213d02eefcfb4b7e975bf3ffebbe7400",
       "version_major": 2,
       "version_minor": 0
      },
      "text/plain": [
       "  0%|          | 0/87 [00:00<?, ?it/s]"
      ]
     },
     "metadata": {},
     "output_type": "display_data"
    },
    {
     "name": "stdout",
     "output_type": "stream",
     "text": [
      "Epoch:5 \t Accuracy:83.3091962346126\n",
      "EarlyStopping counter: 3 out of 5\n"
     ]
    },
    {
     "data": {
      "application/vnd.jupyter.widget-view+json": {
       "model_id": "3e701f20f54748c6a29239b6fb4b9084",
       "version_major": 2,
       "version_minor": 0
      },
      "text/plain": [
       "  0%|          | 0/346 [00:00<?, ?it/s]"
      ]
     },
     "metadata": {},
     "output_type": "display_data"
    },
    {
     "data": {
      "application/vnd.jupyter.widget-view+json": {
       "model_id": "7bc6690bf10242da8d103d61aedf19eb",
       "version_major": 2,
       "version_minor": 0
      },
      "text/plain": [
       "  0%|          | 0/87 [00:00<?, ?it/s]"
      ]
     },
     "metadata": {},
     "output_type": "display_data"
    },
    {
     "name": "stdout",
     "output_type": "stream",
     "text": [
      "Epoch:6 \t Accuracy:86.56770456191165\n",
      "EarlyStopping counter: 4 out of 5\n"
     ]
    },
    {
     "data": {
      "application/vnd.jupyter.widget-view+json": {
       "model_id": "695000d7d1cd492da273865189392d19",
       "version_major": 2,
       "version_minor": 0
      },
      "text/plain": [
       "  0%|          | 0/346 [00:00<?, ?it/s]"
      ]
     },
     "metadata": {},
     "output_type": "display_data"
    },
    {
     "data": {
      "application/vnd.jupyter.widget-view+json": {
       "model_id": "facc0c98bd98421ea2c3ed546bde8e59",
       "version_major": 2,
       "version_minor": 0
      },
      "text/plain": [
       "  0%|          | 0/87 [00:00<?, ?it/s]"
      ]
     },
     "metadata": {},
     "output_type": "display_data"
    },
    {
     "name": "stdout",
     "output_type": "stream",
     "text": [
      "Epoch:7 \t Accuracy:92.50543084721217\n",
      "EarlyStopping counter: 5 out of 5\n",
      "Early stopping\n",
      "====================\n",
      "Training finished !!\n",
      "====================\n"
     ]
    }
   ],
   "source": [
    "trainer.perform_training(30)"
   ]
  },
  {
   "cell_type": "code",
   "execution_count": null,
   "id": "9d35616e",
   "metadata": {
    "ExecuteTime": {
     "end_time": "2021-04-13T02:00:55.687139Z",
     "start_time": "2021-04-13T00:50:41.911Z"
    }
   },
   "outputs": [],
   "source": [
    "# trainer.evaluate(0, test_loader)"
   ]
  },
  {
   "cell_type": "code",
   "execution_count": 11,
   "id": "6fccdf19",
   "metadata": {},
   "outputs": [
    {
     "name": "stdout",
     "output_type": "stream",
     "text": [
      "Total execution training time:  325.31664276123047\n"
     ]
    }
   ],
   "source": [
    "end_time = time.time()\n",
    "print('Total execution training time: ', end_time-start_time)"
   ]
  },
  {
   "cell_type": "code",
   "execution_count": null,
   "id": "8235da90",
   "metadata": {},
   "outputs": [],
   "source": []
  },
  {
   "cell_type": "code",
   "execution_count": null,
   "id": "436d68aa",
   "metadata": {},
   "outputs": [],
   "source": []
  },
  {
   "cell_type": "code",
   "execution_count": null,
   "id": "8f5285a8",
   "metadata": {},
   "outputs": [],
   "source": []
  }
 ],
 "metadata": {
  "kernelspec": {
   "display_name": "Python 3",
   "language": "python",
   "name": "python3"
  },
  "language_info": {
   "codemirror_mode": {
    "name": "ipython",
    "version": 3
   },
   "file_extension": ".py",
   "mimetype": "text/x-python",
   "name": "python",
   "nbconvert_exporter": "python",
   "pygments_lexer": "ipython3",
   "version": "3.8.5"
  },
  "varInspector": {
   "cols": {
    "lenName": 16,
    "lenType": 16,
    "lenVar": 40
   },
   "kernels_config": {
    "python": {
     "delete_cmd_postfix": "",
     "delete_cmd_prefix": "del ",
     "library": "var_list.py",
     "varRefreshCmd": "print(var_dic_list())"
    },
    "r": {
     "delete_cmd_postfix": ") ",
     "delete_cmd_prefix": "rm(",
     "library": "var_list.r",
     "varRefreshCmd": "cat(var_dic_list()) "
    }
   },
   "types_to_exclude": [
    "module",
    "function",
    "builtin_function_or_method",
    "instance",
    "_Feature"
   ],
   "window_display": false
  }
 },
 "nbformat": 4,
 "nbformat_minor": 5
}
